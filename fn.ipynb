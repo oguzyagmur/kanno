{
  "cells": [
    {
      "cell_type": "code",
      "execution_count": null,
      "metadata": {
        "vscode": {
          "languageId": "plaintext"
        }
      },
      "outputs": [],
      "source": [
        "!pip install requests python-binance ccxt"
      ]
    },
    {
      "cell_type": "code",
      "execution_count": null,
      "metadata": {
        "vscode": {
          "languageId": "plaintext"
        }
      },
      "outputs": [],
      "source": [
        "api_key = 'pokRwigNJpkIKehPklwutx4aJEGLQAkF3sQjQ4P9DVGTtKrKy3UhfTQoj5O60tEy'\n",
        "api_secret = 'LFycQ1CE0NIgXSuCcLu6TMzsu7eqLN0bhhGdTLMLaqwNrvrI64Y47yXbg3DbGAvR'\n",
        "\n",
        "from binance.client import Client\n",
        "client = Client(api_key, api_secret)\n", 
        "\n",
        "address = client.get_deposit_address(coin='ETH')\n",
        "\n",
        "\n",
        "print(address)"
      ]
    }
  ],
  "metadata": {
    "kernelspec": {
      "display_name": "Python (Pyodide)",
      "language": "python",
      "name": "python"
    },
    "language_info": {
      "codemirror_mode": {
        "name": "python",
        "version": 3
      },
      "file_extension": ".py",
      "mimetype": "text/x-python",
      "name": "python",
      "nbconvert_exporter": "python",
      "pygments_lexer": "ipython3",
      "version": "3.8"
    }
  },
  "nbformat": 4,
  "nbformat_minor": 4
}
